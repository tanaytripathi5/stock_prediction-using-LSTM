{
 "cells": [
  {
   "cell_type": "code",
   "execution_count": 214,
   "metadata": {},
   "outputs": [],
   "source": [
    "import numpy as np\n",
    "import pandas as pd \n",
    "import matplotlib.pyplot as plt\n",
    "import tensorflow as tf"
   ]
  },
  {
   "cell_type": "code",
   "execution_count": 215,
   "metadata": {},
   "outputs": [],
   "source": [
    "dataset = pd.read_csv(r'D:\\Downloads\\RELIANCE.NS.csv', date_parser =True)"
   ]
  },
  {
   "cell_type": "code",
   "execution_count": 216,
   "metadata": {},
   "outputs": [],
   "source": [
    "dataset.dropna(axis=0,inplace=True)"
   ]
  },
  {
   "cell_type": "code",
   "execution_count": 217,
   "metadata": {},
   "outputs": [],
   "source": [
    "test_data = dataset[dataset['Date']>'2020-01-01'].copy()"
   ]
  },
  {
   "cell_type": "code",
   "execution_count": 218,
   "metadata": {},
   "outputs": [],
   "source": [
    "train_data = dataset[dataset['Date']<'2020-01-01'].copy()"
   ]
  },
  {
   "cell_type": "code",
   "execution_count": 219,
   "metadata": {},
   "outputs": [
    {
     "data": {
      "text/html": [
       "<div>\n",
       "<style scoped>\n",
       "    .dataframe tbody tr th:only-of-type {\n",
       "        vertical-align: middle;\n",
       "    }\n",
       "\n",
       "    .dataframe tbody tr th {\n",
       "        vertical-align: top;\n",
       "    }\n",
       "\n",
       "    .dataframe thead th {\n",
       "        text-align: right;\n",
       "    }\n",
       "</style>\n",
       "<table border=\"1\" class=\"dataframe\">\n",
       "  <thead>\n",
       "    <tr style=\"text-align: right;\">\n",
       "      <th></th>\n",
       "      <th>Date</th>\n",
       "      <th>Open</th>\n",
       "      <th>High</th>\n",
       "      <th>Low</th>\n",
       "      <th>Close</th>\n",
       "      <th>Adj Close</th>\n",
       "      <th>Volume</th>\n",
       "    </tr>\n",
       "  </thead>\n",
       "  <tbody>\n",
       "    <tr>\n",
       "      <th>6197</th>\n",
       "      <td>2020-07-31</td>\n",
       "      <td>2114.500000</td>\n",
       "      <td>2129.000000</td>\n",
       "      <td>2052.800049</td>\n",
       "      <td>2067.100098</td>\n",
       "      <td>2067.100098</td>\n",
       "      <td>34593133.0</td>\n",
       "    </tr>\n",
       "    <tr>\n",
       "      <th>6198</th>\n",
       "      <td>2020-08-03</td>\n",
       "      <td>2051.300049</td>\n",
       "      <td>2057.000000</td>\n",
       "      <td>2003.099976</td>\n",
       "      <td>2009.000000</td>\n",
       "      <td>2009.000000</td>\n",
       "      <td>21559142.0</td>\n",
       "    </tr>\n",
       "    <tr>\n",
       "      <th>6199</th>\n",
       "      <td>2020-08-04</td>\n",
       "      <td>2020.599976</td>\n",
       "      <td>2167.000000</td>\n",
       "      <td>2000.250000</td>\n",
       "      <td>2150.600098</td>\n",
       "      <td>2150.600098</td>\n",
       "      <td>42476932.0</td>\n",
       "    </tr>\n",
       "    <tr>\n",
       "      <th>6200</th>\n",
       "      <td>2020-08-05</td>\n",
       "      <td>2169.000000</td>\n",
       "      <td>2196.000000</td>\n",
       "      <td>2118.300049</td>\n",
       "      <td>2126.449951</td>\n",
       "      <td>2126.449951</td>\n",
       "      <td>34404810.0</td>\n",
       "    </tr>\n",
       "    <tr>\n",
       "      <th>6201</th>\n",
       "      <td>2020-08-06</td>\n",
       "      <td>2157.000000</td>\n",
       "      <td>2167.699951</td>\n",
       "      <td>2107.800049</td>\n",
       "      <td>2134.100098</td>\n",
       "      <td>2134.100098</td>\n",
       "      <td>22762545.0</td>\n",
       "    </tr>\n",
       "  </tbody>\n",
       "</table>\n",
       "</div>"
      ],
      "text/plain": [
       "            Date         Open         High          Low        Close  \\\n",
       "6197  2020-07-31  2114.500000  2129.000000  2052.800049  2067.100098   \n",
       "6198  2020-08-03  2051.300049  2057.000000  2003.099976  2009.000000   \n",
       "6199  2020-08-04  2020.599976  2167.000000  2000.250000  2150.600098   \n",
       "6200  2020-08-05  2169.000000  2196.000000  2118.300049  2126.449951   \n",
       "6201  2020-08-06  2157.000000  2167.699951  2107.800049  2134.100098   \n",
       "\n",
       "        Adj Close      Volume  \n",
       "6197  2067.100098  34593133.0  \n",
       "6198  2009.000000  21559142.0  \n",
       "6199  2150.600098  42476932.0  \n",
       "6200  2126.449951  34404810.0  \n",
       "6201  2134.100098  22762545.0  "
      ]
     },
     "execution_count": 219,
     "metadata": {},
     "output_type": "execute_result"
    }
   ],
   "source": [
    "test_data.tail(5)"
   ]
  },
  {
   "cell_type": "code",
   "execution_count": 220,
   "metadata": {},
   "outputs": [],
   "source": [
    "train = train_data.iloc[:,4].values\n",
    "train = np.array(train)\n",
    "test = test_data.iloc[:,4].values\n",
    "test = np.array(test)"
   ]
  },
  {
   "cell_type": "code",
   "execution_count": 221,
   "metadata": {},
   "outputs": [],
   "source": [
    "train= train.reshape(5927,1)\n",
    "test= test.reshape(148,1)"
   ]
  },
  {
   "cell_type": "code",
   "execution_count": 222,
   "metadata": {},
   "outputs": [],
   "source": [
    "from sklearn.preprocessing import MinMaxScaler\n",
    "sc = MinMaxScaler(feature_range=(0,1))\n",
    "train_scaled = sc.fit_transform(train)"
   ]
  },
  {
   "cell_type": "code",
   "execution_count": 223,
   "metadata": {},
   "outputs": [],
   "source": [
    "X_train = []\n",
    "y_train = []\n",
    "for i in range(60,train.shape[0]):\n",
    "    X_train.append(train_scaled[i-60:i])\n",
    "    y_train.append(train_scaled[i])"
   ]
  },
  {
   "cell_type": "code",
   "execution_count": 224,
   "metadata": {},
   "outputs": [],
   "source": [
    "X_train,y_train = np.array(X_train),np.array(y_train)"
   ]
  },
  {
   "cell_type": "code",
   "execution_count": 225,
   "metadata": {},
   "outputs": [
    {
     "data": {
      "text/plain": [
       "(5867, 60, 1)"
      ]
     },
     "execution_count": 225,
     "metadata": {},
     "output_type": "execute_result"
    }
   ],
   "source": [
    "np.shape(X_train)"
   ]
  },
  {
   "cell_type": "code",
   "execution_count": 226,
   "metadata": {},
   "outputs": [],
   "source": [
    "#model = tf.keras.Sequential()\n",
    "\n",
    "#model.add(tf.keras.layers.LSTM(units=50,activation ='tanh', return_sequences=True))\n",
    "#model.add(tf.keras.layers.Dropout(0.2))\n",
    "#model.add(tf.keras.layers.LSTM(units=120,activation ='tanh',return_sequences=True))\n",
    "#model.add(tf.keras.layers.Dropout(0.4))\n",
    "#model.add(tf.keras.layers.LSTM(units=80,activation ='tanh'))\n",
    "#model.add(tf.keras.layers.Dropout(0.4))\n",
    "\n",
    "#model.add(tf.keras.layers.Dense(1))\n"
   ]
  },
  {
   "cell_type": "code",
   "execution_count": 227,
   "metadata": {},
   "outputs": [],
   "source": [
    "#model.compile(loss= 'mean_squared_error',optimizer='adam',metrics=[\"mae\"])"
   ]
  },
  {
   "cell_type": "code",
   "execution_count": 228,
   "metadata": {},
   "outputs": [],
   "source": [
    "from tensorflow.keras.models import load_model\n",
    "model = load_model('lstm1.h5')"
   ]
  },
  {
   "cell_type": "code",
   "execution_count": 229,
   "metadata": {},
   "outputs": [
    {
     "name": "stdout",
     "output_type": "stream",
     "text": [
      "Epoch 1/10\n",
      "83/83 [==============================] - 2s 23ms/step - loss: 3.0194e-04 - mean_absolute_error: 0.0130 - val_loss: 5.4237e-04 - val_mean_absolute_error: 0.0177\n",
      "Epoch 2/10\n",
      "83/83 [==============================] - 1s 13ms/step - loss: 2.8482e-04 - mean_absolute_error: 0.0128 - val_loss: 8.6828e-04 - val_mean_absolute_error: 0.0239\n",
      "Epoch 3/10\n",
      "83/83 [==============================] - 1s 13ms/step - loss: 2.8693e-04 - mean_absolute_error: 0.0128 - val_loss: 8.0924e-04 - val_mean_absolute_error: 0.0228\n",
      "Epoch 4/10\n",
      "83/83 [==============================] - 1s 12ms/step - loss: 3.1354e-04 - mean_absolute_error: 0.0134 - val_loss: 0.0022 - val_mean_absolute_error: 0.0416\n",
      "Epoch 5/10\n",
      "83/83 [==============================] - 1s 12ms/step - loss: 3.0395e-04 - mean_absolute_error: 0.0132 - val_loss: 0.0019 - val_mean_absolute_error: 0.0379\n",
      "Epoch 6/10\n",
      "83/83 [==============================] - 1s 12ms/step - loss: 3.1187e-04 - mean_absolute_error: 0.0131 - val_loss: 6.5655e-04 - val_mean_absolute_error: 0.0198\n",
      "Epoch 7/10\n",
      "83/83 [==============================] - 1s 12ms/step - loss: 2.8901e-04 - mean_absolute_error: 0.0128 - val_loss: 0.0012 - val_mean_absolute_error: 0.0282\n",
      "Epoch 8/10\n",
      "83/83 [==============================] - 1s 13ms/step - loss: 2.9542e-04 - mean_absolute_error: 0.0130 - val_loss: 9.8688e-04 - val_mean_absolute_error: 0.0259\n",
      "Epoch 9/10\n",
      "83/83 [==============================] - 1s 13ms/step - loss: 2.9627e-04 - mean_absolute_error: 0.0129 - val_loss: 0.0033 - val_mean_absolute_error: 0.0523\n",
      "Epoch 10/10\n",
      "83/83 [==============================] - 1s 13ms/step - loss: 3.0893e-04 - mean_absolute_error: 0.0133 - val_loss: 0.0010 - val_mean_absolute_error: 0.0268\n"
     ]
    },
    {
     "data": {
      "text/plain": [
       "<tensorflow.python.keras.callbacks.History at 0x22c7a584ca0>"
      ]
     },
     "execution_count": 229,
     "metadata": {},
     "output_type": "execute_result"
    }
   ],
   "source": [
    "model.fit(X_train,y_train,validation_split=0.1,epochs=10,batch_size=64)"
   ]
  },
  {
   "cell_type": "code",
   "execution_count": 230,
   "metadata": {},
   "outputs": [],
   "source": [
    "z = train_data.tail(60)"
   ]
  },
  {
   "cell_type": "code",
   "execution_count": 231,
   "metadata": {},
   "outputs": [],
   "source": [
    "new_test = z.append(test_data,ignore_index =True)"
   ]
  },
  {
   "cell_type": "code",
   "execution_count": 232,
   "metadata": {},
   "outputs": [],
   "source": [
    "test1 = new_test.iloc[:,4].values"
   ]
  },
  {
   "cell_type": "code",
   "execution_count": 233,
   "metadata": {},
   "outputs": [],
   "source": [
    "test1 = np.array(test1)"
   ]
  },
  {
   "cell_type": "code",
   "execution_count": 234,
   "metadata": {},
   "outputs": [],
   "source": [
    "test1= test1.reshape(len(test1),1)"
   ]
  },
  {
   "cell_type": "code",
   "execution_count": 235,
   "metadata": {},
   "outputs": [],
   "source": [
    "test1_scaled = sc.fit_transform(test1)"
   ]
  },
  {
   "cell_type": "code",
   "execution_count": 236,
   "metadata": {},
   "outputs": [],
   "source": [
    "X_test=[]\n",
    "y_test = []\n",
    "for i in range(60,test1.shape[0]):\n",
    "    X_test.append(test1_scaled[i-60:i])\n",
    "    y_test.append(test1_scaled[i])\n",
    "X_test,y_test = np.array(X_test),np.array(y_test)\n"
   ]
  },
  {
   "cell_type": "code",
   "execution_count": 237,
   "metadata": {},
   "outputs": [],
   "source": [
    "y_pred = model.predict(X_test)"
   ]
  },
  {
   "cell_type": "code",
   "execution_count": 238,
   "metadata": {},
   "outputs": [
    {
     "data": {
      "text/plain": [
       "array([[0.4961014 ],\n",
       "       [0.49106213],\n",
       "       [0.48853716],\n",
       "       [0.48484415],\n",
       "       [0.4822781 ],\n",
       "       [0.48009846],\n",
       "       [0.48139268],\n",
       "       [0.48523524],\n",
       "       [0.48975807],\n",
       "       [0.4925894 ],\n",
       "       [0.49314007],\n",
       "       [0.49334273],\n",
       "       [0.497466  ],\n",
       "       [0.49993944],\n",
       "       [0.500314  ],\n",
       "       [0.49915645],\n",
       "       [0.4966917 ],\n",
       "       [0.4932689 ],\n",
       "       [0.48838282],\n",
       "       [0.48004302],\n",
       "       [0.47088337],\n",
       "       [0.45960987],\n",
       "       [0.44541857],\n",
       "       [0.42871052],\n",
       "       [0.4157106 ],\n",
       "       [0.40942764],\n",
       "       [0.4094975 ],\n",
       "       [0.4115433 ],\n",
       "       [0.41399655],\n",
       "       [0.41760492],\n",
       "       [0.42320138],\n",
       "       [0.42994612],\n",
       "       [0.4376799 ],\n",
       "       [0.44432098],\n",
       "       [0.44820222],\n",
       "       [0.45273584],\n",
       "       [0.45618686],\n",
       "       [0.45471925],\n",
       "       [0.4472289 ],\n",
       "       [0.43456775],\n",
       "       [0.41974586],\n",
       "       [0.40104634],\n",
       "       [0.38067174],\n",
       "       [0.36388198],\n",
       "       [0.35187346],\n",
       "       [0.34219766],\n",
       "       [0.3314501 ],\n",
       "       [0.30868334],\n",
       "       [0.28156936],\n",
       "       [0.2494131 ],\n",
       "       [0.21995269],\n",
       "       [0.19047666],\n",
       "       [0.16263609],\n",
       "       [0.13613012],\n",
       "       [0.10952707],\n",
       "       [0.09116008],\n",
       "       [0.07332625],\n",
       "       [0.05917419],\n",
       "       [0.05834527],\n",
       "       [0.06804194],\n",
       "       [0.08315465],\n",
       "       [0.09687161],\n",
       "       [0.11254582],\n",
       "       [0.12667423],\n",
       "       [0.13743077],\n",
       "       [0.15370445],\n",
       "       [0.17326386],\n",
       "       [0.19463137],\n",
       "       [0.21245195],\n",
       "       [0.22208548],\n",
       "       [0.22583675],\n",
       "       [0.23004255],\n",
       "       [0.23696944],\n",
       "       [0.24496102],\n",
       "       [0.26220733],\n",
       "       [0.28619304],\n",
       "       [0.31534052],\n",
       "       [0.3454894 ],\n",
       "       [0.37202975],\n",
       "       [0.3923334 ],\n",
       "       [0.40809   ],\n",
       "       [0.4168993 ],\n",
       "       [0.4220501 ],\n",
       "       [0.4248691 ],\n",
       "       [0.43003294],\n",
       "       [0.4416445 ],\n",
       "       [0.45810518],\n",
       "       [0.4668206 ],\n",
       "       [0.470213  ],\n",
       "       [0.46499252],\n",
       "       [0.45653492],\n",
       "       [0.44632933],\n",
       "       [0.4338117 ],\n",
       "       [0.42322457],\n",
       "       [0.41640666],\n",
       "       [0.41230094],\n",
       "       [0.40959182],\n",
       "       [0.40965936],\n",
       "       [0.41403097],\n",
       "       [0.42032862],\n",
       "       [0.43157306],\n",
       "       [0.4466291 ],\n",
       "       [0.46274862],\n",
       "       [0.48060986],\n",
       "       [0.4977578 ],\n",
       "       [0.51087517],\n",
       "       [0.5163742 ],\n",
       "       [0.5190259 ],\n",
       "       [0.51720643],\n",
       "       [0.5171528 ],\n",
       "       [0.52150095],\n",
       "       [0.52881104],\n",
       "       [0.53660095],\n",
       "       [0.5470575 ],\n",
       "       [0.56807524],\n",
       "       [0.593153  ],\n",
       "       [0.61401504],\n",
       "       [0.6288743 ],\n",
       "       [0.63678515],\n",
       "       [0.6415838 ],\n",
       "       [0.6425322 ],\n",
       "       [0.6390163 ],\n",
       "       [0.63632363],\n",
       "       [0.6373942 ],\n",
       "       [0.6437861 ],\n",
       "       [0.6592559 ],\n",
       "       [0.67593133],\n",
       "       [0.687346  ],\n",
       "       [0.69571006],\n",
       "       [0.70687675],\n",
       "       [0.7250277 ],\n",
       "       [0.74359846],\n",
       "       [0.7510915 ],\n",
       "       [0.74924934],\n",
       "       [0.7492851 ],\n",
       "       [0.7527098 ],\n",
       "       [0.7634426 ],\n",
       "       [0.78105   ],\n",
       "       [0.80615175],\n",
       "       [0.84218985],\n",
       "       [0.8809503 ],\n",
       "       [0.9167266 ],\n",
       "       [0.934378  ],\n",
       "       [0.9382846 ],\n",
       "       [0.92888653],\n",
       "       [0.9066137 ],\n",
       "       [0.8961064 ],\n",
       "       [0.8937594 ]], dtype=float32)"
      ]
     },
     "execution_count": 238,
     "metadata": {},
     "output_type": "execute_result"
    }
   ],
   "source": [
    "y_pred"
   ]
  },
  {
   "cell_type": "code",
   "execution_count": 239,
   "metadata": {},
   "outputs": [],
   "source": [
    "y_pred = sc.inverse_transform(y_pred)"
   ]
  },
  {
   "cell_type": "code",
   "execution_count": 240,
   "metadata": {},
   "outputs": [],
   "source": [
    "y_test = sc.inverse_transform(y_test)"
   ]
  },
  {
   "cell_type": "code",
   "execution_count": 241,
   "metadata": {},
   "outputs": [
    {
     "data": {
      "image/png": "[encoded data removed]",
      "text/plain": [
       "<Figure size 432x288 with 1 Axes>"
      ]
     },
     "metadata": {
      "needs_background": "light"
     },
     "output_type": "display_data"
    },
    {
     "data": {
      "text/plain": [
       "<Figure size 2160x1080 with 0 Axes>"
      ]
     },
     "metadata": {},
     "output_type": "display_data"
    }
   ],
   "source": [
    "plt.plot(y_test,color ='red',label ='Real_Stock_Price')\n",
    "plt.plot(y_pred,color ='green',label ='Predicted_Stock_Price')\n",
    "plt.figure(figsize=(30, 15))\n",
    "plt.show()"
   ]
  },
  {
   "cell_type": "code",
   "execution_count": 242,
   "metadata": {},
   "outputs": [
    {
     "data": {
      "text/plain": [
       "0.923781906716011"
      ]
     },
     "execution_count": 242,
     "metadata": {},
     "output_type": "execute_result"
    }
   ],
   "source": [
    "from sklearn.metrics import r2_score\n",
    "r2_score(y_test,y_pred)"
   ]
  },
  {
   "cell_type": "code",
   "execution_count": 243,
   "metadata": {},
   "outputs": [],
   "source": [
    "sixty_days_before_7Aug= pd.read_excel(r'D:\\Documents\\New Microsoft Excel Worksheet.xlsx')"
   ]
  },
  {
   "cell_type": "code",
   "execution_count": 244,
   "metadata": {},
   "outputs": [],
   "source": [
    "t1 = sixty_days_before_7Aug.iloc[:,:].values"
   ]
  },
  {
   "cell_type": "code",
   "execution_count": 245,
   "metadata": {},
   "outputs": [],
   "source": [
    "t1 = np.array(t1)"
   ]
  },
  {
   "cell_type": "code",
   "execution_count": 246,
   "metadata": {},
   "outputs": [
    {
     "data": {
      "text/plain": [
       "array([[1435.949951],\n",
       "       [1459.400024],\n",
       "       [1440.75    ],\n",
       "       [1408.900024],\n",
       "       [1433.699951],\n",
       "       [1441.25    ],\n",
       "       [1431.550049],\n",
       "       [1424.050049],\n",
       "       [1445.550049],\n",
       "       [1472.25    ],\n",
       "       [1464.400024],\n",
       "       [1520.349976],\n",
       "       [1535.699951],\n",
       "       [1541.650024],\n",
       "       [1579.800049],\n",
       "       [1581.699951],\n",
       "       [1569.5     ],\n",
       "       [1537.150024],\n",
       "       [1572.150024],\n",
       "       [1537.699951],\n",
       "       [1588.800049],\n",
       "       [1614.550049],\n",
       "       [1617.699951],\n",
       "       [1615.349976],\n",
       "       [1655.900024],\n",
       "       [1759.400024],\n",
       "       [1746.150024],\n",
       "       [1720.900024],\n",
       "       [1727.849976],\n",
       "       [1717.900024],\n",
       "       [1741.650024],\n",
       "       [1723.150024],\n",
       "       [1704.099976],\n",
       "       [1737.599976],\n",
       "       [1760.349976],\n",
       "       [1787.900024],\n",
       "       [1851.800049],\n",
       "       [1823.449951],\n",
       "       [1798.      ],\n",
       "       [1824.25    ],\n",
       "       [1878.050049],\n",
       "       [1935.      ],\n",
       "       [1917.      ],\n",
       "       [1844.      ],\n",
       "       [1843.400024],\n",
       "       [1911.699951],\n",
       "       [1919.900024],\n",
       "       [1971.550049],\n",
       "       [2004.      ],\n",
       "       [2057.800049],\n",
       "       [2146.149902],\n",
       "       [2156.199951],\n",
       "       [2177.699951],\n",
       "       [2096.649902],\n",
       "       [2108.850098],\n",
       "       [2067.100098],\n",
       "       [2009.      ],\n",
       "       [2150.600098],\n",
       "       [2126.449951],\n",
       "       [2134.100098]])"
      ]
     },
     "execution_count": 246,
     "metadata": {},
     "output_type": "execute_result"
    }
   ],
   "source": [
    "t1.reshape(60,1)"
   ]
  },
  {
   "cell_type": "code",
   "execution_count": 247,
   "metadata": {},
   "outputs": [],
   "source": [
    "t1 = sc.fit_transform(t1)\n",
    "t2 = np.array(t1)\n",
    "t2 =t2.reshape(1,60,1)"
   ]
  },
  {
   "cell_type": "code",
   "execution_count": 248,
   "metadata": {},
   "outputs": [
    {
     "data": {
      "text/plain": [
       "(1, 60, 1)"
      ]
     },
     "execution_count": 248,
     "metadata": {},
     "output_type": "execute_result"
    }
   ],
   "source": [
    "t2.shape"
   ]
  },
  {
   "cell_type": "code",
   "execution_count": 249,
   "metadata": {},
   "outputs": [],
   "source": [
    "s = model.predict(t2)"
   ]
  },
  {
   "cell_type": "code",
   "execution_count": 250,
   "metadata": {},
   "outputs": [
    {
     "data": {
      "text/plain": [
       "array([[0.86082375]], dtype=float32)"
      ]
     },
     "execution_count": 250,
     "metadata": {},
     "output_type": "execute_result"
    }
   ],
   "source": [
    "s"
   ]
  },
  {
   "cell_type": "code",
   "execution_count": 251,
   "metadata": {},
   "outputs": [],
   "source": [
    "prediction_closing_7_Aug = sc.inverse_transform(s)"
   ]
  },
  {
   "cell_type": "code",
   "execution_count": 252,
   "metadata": {},
   "outputs": [
    {
     "data": {
      "text/plain": [
       "array([[2070.7012]], dtype=float32)"
      ]
     },
     "execution_count": 252,
     "metadata": {},
     "output_type": "execute_result"
    }
   ],
   "source": [
    "prediction_closing_7_Aug\n",
    "# Real Closing price on 7 Aug 2022 = 2,146.00"
   ]
  },
  {
   "cell_type": "code",
   "execution_count": 253,
   "metadata": {},
   "outputs": [
    {
     "data": {
      "text/plain": [
       "array([0.00130073])"
      ]
     },
     "execution_count": 253,
     "metadata": {},
     "output_type": "execute_result"
    }
   ],
   "source": []
  },
  {
   "cell_type": "code",
   "execution_count": null,
   "metadata": {},
   "outputs": [],
   "source": []
  }
 ],
 "metadata": {
  "kernelspec": {
   "display_name": "Python 3",
   "language": "python",
   "name": "python3"
  },
  "language_info": {
   "codemirror_mode": {
    "name": "ipython",
    "version": 3
   },
   "file_extension": ".py",
   "mimetype": "text/x-python",
   "name": "python",
   "nbconvert_exporter": "python",
   "pygments_lexer": "ipython3",
   "version": "3.8.3"
  }
 },
 "nbformat": 4,
 "nbformat_minor": 4
}
